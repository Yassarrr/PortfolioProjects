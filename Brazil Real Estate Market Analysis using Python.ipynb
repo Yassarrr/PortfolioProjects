{
 "cells": [
  {
   "cell_type": "markdown",
   "id": "b2706fab",
   "metadata": {},
  },
  {
   "cell_type": "markdown",
   "id": "3f0580ce",
   "metadata": {},
  },
  {
   "cell_type": "code",
   "execution_count": null,
   "id": "a8bd084f",
   "metadata": {},
   "outputs": [],
   "source": []
  },
  {
   "cell_type": "markdown",
   "id": "50b8db2f",
   "metadata": {},
   "source": [
    "#### Task 1: DATA CLEANING of `brasil-real-estate-1.csv` raw data."
   ]
  },
  {
   "cell_type": "markdown",
   "id": "29c48567",
   "metadata": {},
   "source": [
    "Task 1.1: Import the CSV file into the DataFrame `df1`."
   ]
  },
  {
   "cell_type": "code",
   "execution_count": null,
   "id": "fab8ecbd",
   "metadata": {},
   "outputs": [],
   "source": []
  },
  {
   "cell_type": "markdown",
   "id": "9087b56d",
   "metadata": {},
   "source": [
    "Task 1.2: Before you move to the next task, take a moment to inspect df1 using the info and head methods. What issues do you see in the data? What cleaning will you need to do before you can conduct your analysis?"
   ]
  },
  {
   "cell_type": "code",
   "execution_count": null,
   "id": "7a49b481",
   "metadata": {},
   "outputs": [],
   "source": []
  },
  {
   "cell_type": "markdown",
   "id": "46262aba",
   "metadata": {},
   "source": [
    "Task 1.3: Use the `\"lat-lon\"` column to create two separate columns in `df1`: `\"lat\"` and `\"lon\"`. Make sure that the data type for these new columns is `float`."
   ]
  },
  {
   "cell_type": "code",
   "execution_count": null,
   "id": "4b533e66",
   "metadata": {},
   "outputs": [],
   "source": []
  },
  {
   "cell_type": "markdown",
   "id": "26fad8ed",
   "metadata": {},
   "source": [
    "Task 1.4: Use the `\"place_with_parent_names\"` column to create a `\"state\"` column for `df1`. (Note that the state name always appears after `\"|Brasil|\"` in each string.)"
   ]
  },
  {
   "cell_type": "code",
   "execution_count": null,
   "id": "d62cccf1",
   "metadata": {},
   "outputs": [],
   "source": []
  },
  {
   "cell_type": "markdown",
   "id": "b9b41297",
   "metadata": {},
   "source": [
    "Task 1.5: Transform the `\"price_usd\"` column of `df1` so that all values are floating-point numbers instead of strings."
   ]
  },
  {
   "cell_type": "code",
   "execution_count": null,
   "id": "7d85ac0d",
   "metadata": {},
   "outputs": [],
   "source": []
  },
  {
   "cell_type": "markdown",
   "id": "fa4e29f3",
   "metadata": {},
   "source": [
    "Task 1.6: Drop the `\"lat-lon\"` and `\"place_with_parent_names\"` columns from `df1`."
   ]
  },
  {
   "cell_type": "code",
   "execution_count": null,
   "id": "8472964d",
   "metadata": {},
   "outputs": [],
   "source": []
  },
  {
   "cell_type": "markdown",
   "id": "fd53c494",
   "metadata": {},
   "source": [
    "Task 1.7: Give a short report on the data you now have."
   ]
  },
  {
   "cell_type": "code",
   "execution_count": null,
   "id": "ab323b1a",
   "metadata": {},
   "outputs": [],
   "source": []
  },
  {
   "cell_type": "markdown",
   "id": "cc33eb17",
   "metadata": {},
   "source": [
    "#### TASK 2: DATA CLEANING of `brasil-real-estate-2.csv` raw data."
   ]
  },
  {
   "cell_type": "markdown",
   "id": "c1ebd48c",
   "metadata": {},
   "source": [
    "Task 2.1: Import the CSV file `brasil-real-estate-2.csv` into the DataFrame `df2`"
   ]
  },
  {
   "cell_type": "code",
   "execution_count": null,
   "id": "822d16df",
   "metadata": {},
   "outputs": [],
   "source": []
  },
  {
   "cell_type": "markdown",
   "id": "cdbd1964",
   "metadata": {},
   "source": [
    "Task 2.2: Before you jump to the next task, look at `df2` using the `info` and `head` methods. What issues do you see in the data? How is it similar or different from `df1`?"
   ]
  },
  {
   "cell_type": "code",
   "execution_count": null,
   "id": "0ad99a4c",
   "metadata": {},
   "outputs": [],
   "source": []
  },
  {
   "cell_type": "markdown",
   "id": "834abb5a",
   "metadata": {},
   "source": [
    "Task 2.3: Use the `price_brl` column to create a new column named `price_usd`. (Keep in mind that, when this data was collected in 2015 and 2016, a US dollar cost 3.19 Brazilian reals.)"
   ]
  },
  {
   "cell_type": "code",
   "execution_count": null,
   "id": "a6dd37d6",
   "metadata": {},
   "outputs": [],
   "source": []
  },
  {
   "cell_type": "markdown",
   "id": "db786adf",
   "metadata": {},
   "source": [
    "Task 2.4: Drop the `\"price_brl\"` column from `df2`, as well as any rows that have `NaN` values."
   ]
  },
  {
   "cell_type": "code",
   "execution_count": null,
   "id": "87068d5c",
   "metadata": {},
   "outputs": [],
   "source": []
  },
  {
   "cell_type": "markdown",
   "id": "3a6a0b2b",
   "metadata": {},
   "source": [
    "Task 2.5: Concatenate `df1` and `df2` to create a new DataFrame named `df`. "
   ]
  },
  {
   "cell_type": "code",
   "execution_count": null,
   "id": "9503f305",
   "metadata": {},
   "outputs": [],
   "source": []
  },
  {
   "cell_type": "markdown",
   "id": "e2656c22",
   "metadata": {},
   "source": [
    "### TASK 3: EXPLORATION"
   ]
  },
  {
   "cell_type": "markdown",
   "id": "ee543ddb",
   "metadata": {},
   "source": [
    "In this section, you'll use your new data visualization skills to learn more about the regional differences in the Brazilian real estate market."
   ]
  },
  {
   "cell_type": "code",
   "execution_count": null,
   "id": "88dfa2cc",
   "metadata": {},
   "outputs": [],
   "source": []
  },
  {
   "cell_type": "markdown",
   "id": "af02b63b",
   "metadata": {},
   "source": [
    "TASK 3.1: Use the `describe` method to create a DataFrame `summary_stats` with the summary statistics for the `\"area_m2\"` and `\"price_usd\"` columns."
   ]
  },
  {
   "cell_type": "code",
   "execution_count": null,
   "id": "9bce8a5f",
   "metadata": {},
   "outputs": [],
   "source": []
  },
  {
   "cell_type": "markdown",
   "id": "2bbeb980",
   "metadata": {},
   "source": [
    "TASK 3.2: Create a histogram of `\"price_usd\"`. Make sure that the x-axis has the label `\"Price [USD]\"`, the y-axis has the label `\"Frequency\"`, and the plot has the title `\"Distribution of Home Prices\"`."
   ]
  },
  {
   "cell_type": "code",
   "execution_count": null,
   "id": "01a3c266",
   "metadata": {},
   "outputs": [],
   "source": []
  },
  {
   "cell_type": "markdown",
   "id": "02f11df3",
   "metadata": {},
   "source": [
    "TASK 3.3: Create a horizontal boxplot of `\"area_m2\"`. Make sure that the x-axis has the label `\"Area [sq meters]\"` and the plot has the title `\"Distribution of Home Sizes\"`."
   ]
  },
  {
   "cell_type": "code",
   "execution_count": null,
   "id": "1f846285",
   "metadata": {},
   "outputs": [],
   "source": []
  },
  {
   "cell_type": "markdown",
   "id": "54ef6360",
   "metadata": {},
   "source": [
    "TASK 3.4: Use the `groupby` method to create a Series named `mean_price_by_region` that shows the mean home price in each region in Brazil, sorted from smallest to largest."
   ]
  },
  {
   "cell_type": "code",
   "execution_count": null,
   "id": "982b3ffe",
   "metadata": {},
   "outputs": [],
   "source": []
  },
  {
   "cell_type": "markdown",
   "id": "2625db71",
   "metadata": {},
   "source": [
    "TASK 3.5: Use `mean_price_by_region` to create a bar chart. Make sure you label the x-axis as `\"Region\"` and the y-axis as `\"Mean Price [USD]\"` and give the chart the title `\"Mean Home Price by Region\"`."
   ]
  },
  {
   "cell_type": "code",
   "execution_count": null,
   "id": "f0574e35",
   "metadata": {},
   "outputs": [],
   "source": []
  },
  {
   "cell_type": "markdown",
   "id": "f9ac050a",
   "metadata": {},
   "source": [
    "You're now going to shift your focus to the southern region of Brazil and look at the relationship between home size and price."
   ]
  },
  {
   "cell_type": "markdown",
   "id": "54d855b4",
   "metadata": {},
   "source": [
    "TASK 3.7: Create a DataFrame `df_south` that contains all the homes from `df` that are in the `\"South\"` region."
   ]
  },
  {
   "cell_type": "code",
   "execution_count": null,
   "id": "df0adb25",
   "metadata": {},
   "outputs": [],
   "source": []
  },
  {
   "cell_type": "markdown",
   "id": "c2bd9930",
   "metadata": {},
   "source": [
    "TASK 3.8: Use the `value_counts` method to create a Series `homes_by_state` that contains the number of properties in each state in `df_south`."
   ]
  },
  {
   "cell_type": "code",
   "execution_count": null,
   "id": "d499a0ce",
   "metadata": {},
   "outputs": [],
   "source": []
  },
  {
   "cell_type": "markdown",
   "id": "52faf28c",
   "metadata": {},
   "source": [
    "TASK 3.9: Create a scatter plot showing price vs. area for the state in `df_south` that has the largest number of properties. Be sure to label the x-axis `\"Area [sq meters]\"` and the y-axis `\"Price [USD]\"`; and use the title `\"<name of state>: Price vs. Area\"`"
   ]
  },
  {
   "cell_type": "code",
   "execution_count": null,
   "id": "52c86c68",
   "metadata": {},
   "outputs": [],
   "source": []
  },
  {
   "cell_type": "markdown",
   "id": "e900b4d6",
   "metadata": {},
   "source": [
    "TASK 3.9.1: Create a dictionary `south_states_corr`, where the keys are the names of the three states in the `\"South\"` region of Brazil, and their associated values are the correlation coefficient between `\"area_m2\"` and `\"price_usd\"` in that state."
   ]
  },
  {
   "cell_type": "markdown",
   "id": "63c78981",
   "metadata": {},
   "source": [
    "As an example, here's a dictionary with the states and correlation coefficients for the Southeast region. Since you're looking at a different region, the states and coefficients will be different, but the structure of the dictionary will be the same.\n",
    "\n",
    "As an example, here's a dictionary with the states and correlation coefficients for the Southeast region. Since you're looking at a different region, the states and coefficients will be different, but the structure of the dictionary will be the same.\n",
    "\n",
    "```python\n",
    "{'Espírito Santo': 0.6311332554173303,\n",
    " 'Minas Gerais': 0.5830029036378931,\n",
    " 'Rio de Janeiro': 0.4554077103515366,\n",
    " 'São Paulo': 0.45882050624839366}\n",
    "```"
   ]
  },
  {
   "cell_type": "code",
   "execution_count": 1,
   "id": "4a22ca6c",
   "metadata": {},
   "outputs": [
    {
     "data": {
      "text/plain": [
       "Ellipsis"
      ]
     },
     "execution_count": 1,
     "metadata": {},
     "output_type": "execute_result"
    }
   ],
   "source": [
    "south_states_corr = ...\n",
    "\n",
    "south_states_corr"
   ]
  },
  {
   "cell_type": "code",
   "execution_count": null,
   "id": "1ff1aef9",
   "metadata": {},
   "outputs": [],
   "source": []
  }
 ],
 "metadata": {
  "kernelspec": {
   "display_name": "Python 3 (ipykernel)",
   "language": "python",
   "name": "python3"
  },
  "language_info": {
   "codemirror_mode": {
    "name": "ipython",
    "version": 3
   },
   "file_extension": ".py",
   "mimetype": "text/x-python",
   "name": "python",
   "nbconvert_exporter": "python",
   "pygments_lexer": "ipython3",
   "version": "3.10.9"
  }
 },
 "nbformat": 4,
 "nbformat_minor": 5
}
